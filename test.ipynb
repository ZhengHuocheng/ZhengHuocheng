{
 "cells": [
  {
   "cell_type": "code",
   "execution_count": 5,
   "id": "6c7f491d",
   "metadata": {},
   "outputs": [],
   "source": [
    "import streamlit as st"
   ]
  },
  {
   "cell_type": "code",
   "execution_count": 6,
   "id": "b4e572e2",
   "metadata": {},
   "outputs": [],
   "source": [
    "# Streamlit应用程序设置\n",
    "st.title(\"问答系统\")\n",
    "st.write(\"输入一个问题和一段文本，获取问题的答案\")\n"
   ]
  }
 ],
 "metadata": {
  "kernelspec": {
   "display_name": "Python 3 (ipykernel)",
   "language": "python",
   "name": "python3"
  },
  "language_info": {
   "codemirror_mode": {
    "name": "ipython",
    "version": 3
   },
   "file_extension": ".py",
   "mimetype": "text/x-python",
   "name": "python",
   "nbconvert_exporter": "python",
   "pygments_lexer": "ipython3",
   "version": "3.7.5"
  }
 },
 "nbformat": 4,
 "nbformat_minor": 5
}
